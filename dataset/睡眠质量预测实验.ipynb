{
 "cells": [
  {
   "cell_type": "markdown",
   "id": "722efbf8",
   "metadata": {},
   "source": [
    "# 睡眠质量预测与分析\n",
    "> 融合机器学习 + 睡眠质量模拟 \n"
   ]
  },
  {
   "cell_type": "markdown",
   "id": "3244d311",
   "metadata": {},
   "source": [
    "## 📘 实验背景\n",
    "城乡收入差距长期存在，借助数据建模评估政策效果、预测趋势，是推动“共同富裕”目标的重要手段。"
   ]
  },
  {
   "cell_type": "markdown",
   "id": "c4da8373",
   "metadata": {},
   "source": [
    "## 📊 步骤 1：模拟数据生成"
   ]
  },
  {
   "cell_type": "code",
   "execution_count": 1,
   "id": "65ee155c",
   "metadata": {},
   "outputs": [
    {
     "data": {
      "text/html": [
       "<div>\n",
       "<style scoped>\n",
       "    .dataframe tbody tr th:only-of-type {\n",
       "        vertical-align: middle;\n",
       "    }\n",
       "\n",
       "    .dataframe tbody tr th {\n",
       "        vertical-align: top;\n",
       "    }\n",
       "\n",
       "    .dataframe thead th {\n",
       "        text-align: right;\n",
       "    }\n",
       "</style>\n",
       "<table border=\"1\" class=\"dataframe\">\n",
       "  <thead>\n",
       "    <tr style=\"text-align: right;\">\n",
       "      <th></th>\n",
       "      <th>city</th>\n",
       "      <th>year</th>\n",
       "      <th>region</th>\n",
       "      <th>gdp_pc</th>\n",
       "      <th>net_access</th>\n",
       "      <th>edu_exp</th>\n",
       "      <th>med_exp</th>\n",
       "      <th>urban_ratio</th>\n",
       "      <th>policy_index</th>\n",
       "      <th>infra_score</th>\n",
       "      <th>unemp_rate</th>\n",
       "      <th>rural_income</th>\n",
       "      <th>urban_income</th>\n",
       "    </tr>\n",
       "  </thead>\n",
       "  <tbody>\n",
       "    <tr>\n",
       "      <th>0</th>\n",
       "      <td>City_1</td>\n",
       "      <td>2018</td>\n",
       "      <td>东部</td>\n",
       "      <td>80435.235341</td>\n",
       "      <td>0.870099</td>\n",
       "      <td>15183.521553</td>\n",
       "      <td>7018.646628</td>\n",
       "      <td>0.678033</td>\n",
       "      <td>0.410383</td>\n",
       "      <td>65.631510</td>\n",
       "      <td>0.056322</td>\n",
       "      <td>27308.220150</td>\n",
       "      <td>55253.009096</td>\n",
       "    </tr>\n",
       "    <tr>\n",
       "      <th>1</th>\n",
       "      <td>City_1</td>\n",
       "      <td>2019</td>\n",
       "      <td>东部</td>\n",
       "      <td>83718.556419</td>\n",
       "      <td>0.950145</td>\n",
       "      <td>17316.373306</td>\n",
       "      <td>10385.675305</td>\n",
       "      <td>0.731451</td>\n",
       "      <td>0.186570</td>\n",
       "      <td>69.936168</td>\n",
       "      <td>0.109059</td>\n",
       "      <td>39349.843358</td>\n",
       "      <td>72736.974866</td>\n",
       "    </tr>\n",
       "    <tr>\n",
       "      <th>2</th>\n",
       "      <td>City_1</td>\n",
       "      <td>2020</td>\n",
       "      <td>东部</td>\n",
       "      <td>76489.734531</td>\n",
       "      <td>0.867234</td>\n",
       "      <td>14215.783694</td>\n",
       "      <td>7804.727578</td>\n",
       "      <td>0.729612</td>\n",
       "      <td>0.006952</td>\n",
       "      <td>66.555326</td>\n",
       "      <td>0.030000</td>\n",
       "      <td>26319.474504</td>\n",
       "      <td>48644.381756</td>\n",
       "    </tr>\n",
       "    <tr>\n",
       "      <th>3</th>\n",
       "      <td>City_1</td>\n",
       "      <td>2021</td>\n",
       "      <td>东部</td>\n",
       "      <td>81727.589719</td>\n",
       "      <td>0.945294</td>\n",
       "      <td>14667.878183</td>\n",
       "      <td>10322.408245</td>\n",
       "      <td>0.497769</td>\n",
       "      <td>0.703019</td>\n",
       "      <td>63.485489</td>\n",
       "      <td>0.077767</td>\n",
       "      <td>43609.537995</td>\n",
       "      <td>55209.821883</td>\n",
       "    </tr>\n",
       "    <tr>\n",
       "      <th>4</th>\n",
       "      <td>City_1</td>\n",
       "      <td>2022</td>\n",
       "      <td>东部</td>\n",
       "      <td>70406.143924</td>\n",
       "      <td>0.897349</td>\n",
       "      <td>15120.460420</td>\n",
       "      <td>13694.863169</td>\n",
       "      <td>0.680764</td>\n",
       "      <td>0.144895</td>\n",
       "      <td>66.798084</td>\n",
       "      <td>0.090195</td>\n",
       "      <td>25074.363936</td>\n",
       "      <td>56440.427980</td>\n",
       "    </tr>\n",
       "  </tbody>\n",
       "</table>\n",
       "</div>"
      ],
      "text/plain": [
       "     city  year region        gdp_pc  net_access       edu_exp       med_exp  \\\n",
       "0  City_1  2018     东部  80435.235341    0.870099  15183.521553   7018.646628   \n",
       "1  City_1  2019     东部  83718.556419    0.950145  17316.373306  10385.675305   \n",
       "2  City_1  2020     东部  76489.734531    0.867234  14215.783694   7804.727578   \n",
       "3  City_1  2021     东部  81727.589719    0.945294  14667.878183  10322.408245   \n",
       "4  City_1  2022     东部  70406.143924    0.897349  15120.460420  13694.863169   \n",
       "\n",
       "   urban_ratio  policy_index  infra_score  unemp_rate  rural_income  \\\n",
       "0     0.678033      0.410383    65.631510    0.056322  27308.220150   \n",
       "1     0.731451      0.186570    69.936168    0.109059  39349.843358   \n",
       "2     0.729612      0.006952    66.555326    0.030000  26319.474504   \n",
       "3     0.497769      0.703019    63.485489    0.077767  43609.537995   \n",
       "4     0.680764      0.144895    66.798084    0.090195  25074.363936   \n",
       "\n",
       "   urban_income  \n",
       "0  55253.009096  \n",
       "1  72736.974866  \n",
       "2  48644.381756  \n",
       "3  55209.821883  \n",
       "4  56440.427980  "
      ]
     },
     "execution_count": 1,
     "metadata": {},
     "output_type": "execute_result"
    }
   ],
   "source": [
    "import pandas as pd\n",
    "import numpy as np\n",
    "# 设置随机数种子，保证每次生成的随机数相同，便于结果的复现\n",
    "np.random.seed(42)\n",
    "# 生成100个城市名称的列表，格式为City_1到City_100，分配地区\n",
    "cities = [f\"City_{i+1}\" for i in range(100)]\n",
    "regions = np.random.choice(['东部', '中部', '西部'], size=100, p=[0.4, 0.3, 0.3])\n",
    "data = []\n",
    "# 遍历2018年到2022年城市和对应的地区的数据加到data列表当中\n",
    "for city, region in zip(cities, regions):\n",
    "    for year in range(2018, 2023):\n",
    "        gdp_pc = np.random.normal(loc=80000 if region == '东部' else 50000 if region == '中部' else 30000, scale=5000)\n",
    "        net_access = np.clip(np.random.normal(0.9 if region == '东部' else 0.75, 0.1), 0.5, 1.0)\n",
    "        edu_exp = np.random.normal(loc=15000, scale=2000)\n",
    "        med_exp = np.random.normal(loc=10000, scale=1500)\n",
    "        urban_ratio = np.clip(np.random.normal(0.7 if region == '东部' else 0.6, 0.1), 0.3, 0.95)\n",
    "        policy_index = np.random.uniform(0, 1)\n",
    "        infra_score = net_access * 50 + urban_ratio * 30 + np.random.normal(0, 5)\n",
    "        unemp_rate = np.clip(np.random.normal(0.08, 0.03), 0.03, 0.15)\n",
    "        rural_income = gdp_pc * np.random.uniform(0.3, 0.5) + policy_index * 5000 - unemp_rate * 2000\n",
    "        urban_income = gdp_pc * np.random.uniform(0.6, 0.9)\n",
    "        data.append([city, year, region, gdp_pc, net_access, edu_exp, med_exp, urban_ratio, policy_index, infra_score, unemp_rate, rural_income, urban_income])\n",
    "# 定义数据框的列名，转化为DataFrama格式做数据分析，查看前五行\n",
    "columns = ['city', 'year', 'region', 'gdp_pc', 'net_access', 'edu_exp', 'med_exp', 'urban_ratio', 'policy_index', 'infra_score', 'unemp_rate', 'rural_income', 'urban_income']\n",
    "df = pd.DataFrame(data, columns=columns)\n",
    "df.head()"
   ]
  },
  {
   "cell_type": "markdown",
   "id": "cd67da49",
   "metadata": {},
   "source": [
    "## 🔧 步骤 2：特征工程与标准化"
   ]
  },
  {
   "cell_type": "code",
   "execution_count": 2,
   "id": "1e47fd51",
   "metadata": {},
   "outputs": [],
   "source": [
    "from sklearn.model_selection import train_test_split\n",
    "from sklearn.preprocessing import StandardScaler\n",
    "\n",
    "X = df[['gdp_pc', 'net_access', 'edu_exp', 'med_exp', 'urban_ratio', 'policy_index', 'infra_score', 'unemp_rate']]\n",
    "y = df['rural_income']\n",
    "X_train, X_test, y_train, y_test = train_test_split(X, y, test_size=0.2, random_state=0)\n",
    "\n",
    "scaler = StandardScaler()\n",
    "X_train_scaled = scaler.fit_transform(X_train)\n",
    "X_test_scaled = scaler.transform(X_test)"
   ]
  },
  {
   "cell_type": "markdown",
   "id": "4a2e2b86",
   "metadata": {},
   "source": [
    "## 🤖 步骤 3：模型构建与性能评估"
   ]
  },
  {
   "cell_type": "code",
   "execution_count": 3,
   "id": "fafb7f0e",
   "metadata": {},
   "outputs": [
    {
     "ename": "ModuleNotFoundError",
     "evalue": "No module named 'xgboost'",
     "output_type": "error",
     "traceback": [
      "\u001b[1;31m---------------------------------------------------------------------------\u001b[0m",
      "\u001b[1;31mModuleNotFoundError\u001b[0m                       Traceback (most recent call last)",
      "Input \u001b[1;32mIn [3]\u001b[0m, in \u001b[0;36m<cell line: 3>\u001b[1;34m()\u001b[0m\n\u001b[0;32m      1\u001b[0m \u001b[38;5;28;01mfrom\u001b[39;00m \u001b[38;5;21;01msklearn\u001b[39;00m\u001b[38;5;21;01m.\u001b[39;00m\u001b[38;5;21;01mlinear_model\u001b[39;00m \u001b[38;5;28;01mimport\u001b[39;00m Ridge\n\u001b[0;32m      2\u001b[0m \u001b[38;5;28;01mfrom\u001b[39;00m \u001b[38;5;21;01msklearn\u001b[39;00m\u001b[38;5;21;01m.\u001b[39;00m\u001b[38;5;21;01mensemble\u001b[39;00m \u001b[38;5;28;01mimport\u001b[39;00m RandomForestRegressor\n\u001b[1;32m----> 3\u001b[0m \u001b[38;5;28;01mfrom\u001b[39;00m \u001b[38;5;21;01mxgboost\u001b[39;00m \u001b[38;5;28;01mimport\u001b[39;00m XGBRegressor\n\u001b[0;32m      4\u001b[0m \u001b[38;5;28;01mfrom\u001b[39;00m \u001b[38;5;21;01mcatboost\u001b[39;00m \u001b[38;5;28;01mimport\u001b[39;00m CatBoostRegressor\n\u001b[0;32m      5\u001b[0m \u001b[38;5;28;01mfrom\u001b[39;00m \u001b[38;5;21;01msklearn\u001b[39;00m\u001b[38;5;21;01m.\u001b[39;00m\u001b[38;5;21;01mmetrics\u001b[39;00m \u001b[38;5;28;01mimport\u001b[39;00m mean_squared_error, r2_score\n",
      "\u001b[1;31mModuleNotFoundError\u001b[0m: No module named 'xgboost'"
     ]
    }
   ],
   "source": [
    "from sklearn.linear_model import Ridge\n",
    "from sklearn.ensemble import RandomForestRegressor\n",
    "from xgboost import XGBRegressor\n",
    "from catboost import CatBoostRegressor\n",
    "from sklearn.metrics import mean_squared_error, r2_score\n",
    "import time\n",
    "\n",
    "def train_and_evaluate(model, name):\n",
    "    start = time.time()\n",
    "    model.fit(X_train_scaled, y_train)\n",
    "    y_pred = model.predict(X_test_scaled)\n",
    "    end = time.time()\n",
    "    rmse = np.sqrt(mean_squared_error(y_test, y_pred))\n",
    "    r2 = r2_score(y_test, y_pred)\n",
    "    print(f\"🔎 {name} | RMSE: {rmse:.2f} | R²: {r2:.3f} | 训练时间: {end-start:.2f}s\")\n",
    "\n",
    "train_and_evaluate(Ridge(), \"Ridge回归\")\n",
    "train_and_evaluate(RandomForestRegressor(n_estimators=100), \"随机森林\")\n",
    "train_and_evaluate(XGBRegressor(n_estimators=100, verbosity=0), \"XGBoost\")\n",
    "train_and_evaluate(CatBoostRegressor(verbose=0), \"CatBoost\")"
   ]
  },
  {
   "cell_type": "markdown",
   "id": "d7468992",
   "metadata": {},
   "source": [
    "## 🔍 步骤 4：SHAP 模型解释"
   ]
  },
  {
   "cell_type": "code",
   "execution_count": null,
   "id": "cb17fe5a",
   "metadata": {},
   "outputs": [],
   "source": [
    "import shap\n",
    "model = RandomForestRegressor(n_estimators=100).fit(X_train_scaled, y_train)\n",
    "explainer = shap.Explainer(model.predict, X_test_scaled)\n",
    "shap_values = explainer(X_test_scaled)\n",
    "shap.plots.bar(shap_values)"
   ]
  },
  {
   "cell_type": "markdown",
   "id": "abb24841",
   "metadata": {},
   "source": [
    "## 🌍 步骤 5：区域异质性建模"
   ]
  },
  {
   "cell_type": "code",
   "execution_count": null,
   "id": "d699c135",
   "metadata": {},
   "outputs": [],
   "source": [
    "for region in df['region'].unique():\n",
    "    sub_df = df[df['region'] == region]\n",
    "    X_r = sub_df[X.columns]\n",
    "    y_r = sub_df['rural_income']\n",
    "    X_train_r, X_test_r, y_train_r, y_test_r = train_test_split(X_r, y_r, test_size=0.2)\n",
    "    model_r = RandomForestRegressor()\n",
    "    model_r.fit(X_train_r, y_train_r)\n",
    "    print(f\"📍 {region} 区模型 R²: {model_r.score(X_test_r, y_test_r):.3f}\")"
   ]
  },
  {
   "cell_type": "markdown",
   "id": "6e95aa33",
   "metadata": {},
   "source": [
    "## 💡 步骤 6：政策模拟实验"
   ]
  },
  {
   "cell_type": "code",
   "execution_count": null,
   "id": "70bec690",
   "metadata": {},
   "outputs": [],
   "source": [
    "X_sim = X_test.copy()\n",
    "X_sim['policy_index'] += 0.2  # 加强政策支持\n",
    "X_sim_scaled = scaler.transform(X_sim)\n",
    "\n",
    "model_final = RandomForestRegressor().fit(X_train_scaled, y_train)\n",
    "y_before = model_final.predict(X_test_scaled)\n",
    "y_after = model_final.predict(X_sim_scaled)\n",
    "\n",
    "print(f\"💡 模拟后，农村收入平均提升：{np.mean(y_after - y_before):.2f} 元\")"
   ]
  }
 ],
 "metadata": {
  "kernelspec": {
   "display_name": "Python 3 (ipykernel)",
   "language": "python",
   "name": "python3"
  },
  "language_info": {
   "codemirror_mode": {
    "name": "ipython",
    "version": 3
   },
   "file_extension": ".py",
   "mimetype": "text/x-python",
   "name": "python",
   "nbconvert_exporter": "python",
   "pygments_lexer": "ipython3",
   "version": "3.9.12"
  }
 },
 "nbformat": 4,
 "nbformat_minor": 5
}
